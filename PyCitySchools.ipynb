{
 "cells": [
  {
   "cell_type": "code",
   "execution_count": 34,
   "metadata": {},
   "outputs": [
    {
     "data": {
      "text/html": [
       "<div>\n",
       "<style scoped>\n",
       "    .dataframe tbody tr th:only-of-type {\n",
       "        vertical-align: middle;\n",
       "    }\n",
       "\n",
       "    .dataframe tbody tr th {\n",
       "        vertical-align: top;\n",
       "    }\n",
       "\n",
       "    .dataframe thead th {\n",
       "        text-align: right;\n",
       "    }\n",
       "</style>\n",
       "<table border=\"1\" class=\"dataframe\">\n",
       "  <thead>\n",
       "    <tr style=\"text-align: right;\">\n",
       "      <th></th>\n",
       "      <th>Student ID</th>\n",
       "      <th>student_name</th>\n",
       "      <th>gender</th>\n",
       "      <th>grade</th>\n",
       "      <th>school_name</th>\n",
       "      <th>reading_score</th>\n",
       "      <th>math_score</th>\n",
       "      <th>School ID</th>\n",
       "      <th>type</th>\n",
       "      <th>size</th>\n",
       "      <th>budget</th>\n",
       "    </tr>\n",
       "  </thead>\n",
       "  <tbody>\n",
       "    <tr>\n",
       "      <th>0</th>\n",
       "      <td>0</td>\n",
       "      <td>Paul Bradley</td>\n",
       "      <td>M</td>\n",
       "      <td>9th</td>\n",
       "      <td>Huang High School</td>\n",
       "      <td>66</td>\n",
       "      <td>79</td>\n",
       "      <td>0</td>\n",
       "      <td>District</td>\n",
       "      <td>2917</td>\n",
       "      <td>1910635</td>\n",
       "    </tr>\n",
       "    <tr>\n",
       "      <th>1</th>\n",
       "      <td>1</td>\n",
       "      <td>Victor Smith</td>\n",
       "      <td>M</td>\n",
       "      <td>12th</td>\n",
       "      <td>Huang High School</td>\n",
       "      <td>94</td>\n",
       "      <td>61</td>\n",
       "      <td>0</td>\n",
       "      <td>District</td>\n",
       "      <td>2917</td>\n",
       "      <td>1910635</td>\n",
       "    </tr>\n",
       "    <tr>\n",
       "      <th>2</th>\n",
       "      <td>2</td>\n",
       "      <td>Kevin Rodriguez</td>\n",
       "      <td>M</td>\n",
       "      <td>12th</td>\n",
       "      <td>Huang High School</td>\n",
       "      <td>90</td>\n",
       "      <td>60</td>\n",
       "      <td>0</td>\n",
       "      <td>District</td>\n",
       "      <td>2917</td>\n",
       "      <td>1910635</td>\n",
       "    </tr>\n",
       "    <tr>\n",
       "      <th>3</th>\n",
       "      <td>3</td>\n",
       "      <td>Dr. Richard Scott</td>\n",
       "      <td>M</td>\n",
       "      <td>12th</td>\n",
       "      <td>Huang High School</td>\n",
       "      <td>67</td>\n",
       "      <td>58</td>\n",
       "      <td>0</td>\n",
       "      <td>District</td>\n",
       "      <td>2917</td>\n",
       "      <td>1910635</td>\n",
       "    </tr>\n",
       "    <tr>\n",
       "      <th>4</th>\n",
       "      <td>4</td>\n",
       "      <td>Bonnie Ray</td>\n",
       "      <td>F</td>\n",
       "      <td>9th</td>\n",
       "      <td>Huang High School</td>\n",
       "      <td>97</td>\n",
       "      <td>84</td>\n",
       "      <td>0</td>\n",
       "      <td>District</td>\n",
       "      <td>2917</td>\n",
       "      <td>1910635</td>\n",
       "    </tr>\n",
       "    <tr>\n",
       "      <th>...</th>\n",
       "      <td>...</td>\n",
       "      <td>...</td>\n",
       "      <td>...</td>\n",
       "      <td>...</td>\n",
       "      <td>...</td>\n",
       "      <td>...</td>\n",
       "      <td>...</td>\n",
       "      <td>...</td>\n",
       "      <td>...</td>\n",
       "      <td>...</td>\n",
       "      <td>...</td>\n",
       "    </tr>\n",
       "    <tr>\n",
       "      <th>39165</th>\n",
       "      <td>39165</td>\n",
       "      <td>Donna Howard</td>\n",
       "      <td>F</td>\n",
       "      <td>12th</td>\n",
       "      <td>Thomas High School</td>\n",
       "      <td>99</td>\n",
       "      <td>90</td>\n",
       "      <td>14</td>\n",
       "      <td>Charter</td>\n",
       "      <td>1635</td>\n",
       "      <td>1043130</td>\n",
       "    </tr>\n",
       "    <tr>\n",
       "      <th>39166</th>\n",
       "      <td>39166</td>\n",
       "      <td>Dawn Bell</td>\n",
       "      <td>F</td>\n",
       "      <td>10th</td>\n",
       "      <td>Thomas High School</td>\n",
       "      <td>95</td>\n",
       "      <td>70</td>\n",
       "      <td>14</td>\n",
       "      <td>Charter</td>\n",
       "      <td>1635</td>\n",
       "      <td>1043130</td>\n",
       "    </tr>\n",
       "    <tr>\n",
       "      <th>39167</th>\n",
       "      <td>39167</td>\n",
       "      <td>Rebecca Tanner</td>\n",
       "      <td>F</td>\n",
       "      <td>9th</td>\n",
       "      <td>Thomas High School</td>\n",
       "      <td>73</td>\n",
       "      <td>84</td>\n",
       "      <td>14</td>\n",
       "      <td>Charter</td>\n",
       "      <td>1635</td>\n",
       "      <td>1043130</td>\n",
       "    </tr>\n",
       "    <tr>\n",
       "      <th>39168</th>\n",
       "      <td>39168</td>\n",
       "      <td>Desiree Kidd</td>\n",
       "      <td>F</td>\n",
       "      <td>10th</td>\n",
       "      <td>Thomas High School</td>\n",
       "      <td>99</td>\n",
       "      <td>90</td>\n",
       "      <td>14</td>\n",
       "      <td>Charter</td>\n",
       "      <td>1635</td>\n",
       "      <td>1043130</td>\n",
       "    </tr>\n",
       "    <tr>\n",
       "      <th>39169</th>\n",
       "      <td>39169</td>\n",
       "      <td>Carolyn Jackson</td>\n",
       "      <td>F</td>\n",
       "      <td>11th</td>\n",
       "      <td>Thomas High School</td>\n",
       "      <td>95</td>\n",
       "      <td>75</td>\n",
       "      <td>14</td>\n",
       "      <td>Charter</td>\n",
       "      <td>1635</td>\n",
       "      <td>1043130</td>\n",
       "    </tr>\n",
       "  </tbody>\n",
       "</table>\n",
       "<p>39170 rows × 11 columns</p>\n",
       "</div>"
      ],
      "text/plain": [
       "       Student ID       student_name gender grade         school_name  \\\n",
       "0               0       Paul Bradley      M   9th   Huang High School   \n",
       "1               1       Victor Smith      M  12th   Huang High School   \n",
       "2               2    Kevin Rodriguez      M  12th   Huang High School   \n",
       "3               3  Dr. Richard Scott      M  12th   Huang High School   \n",
       "4               4         Bonnie Ray      F   9th   Huang High School   \n",
       "...           ...                ...    ...   ...                 ...   \n",
       "39165       39165       Donna Howard      F  12th  Thomas High School   \n",
       "39166       39166          Dawn Bell      F  10th  Thomas High School   \n",
       "39167       39167     Rebecca Tanner      F   9th  Thomas High School   \n",
       "39168       39168       Desiree Kidd      F  10th  Thomas High School   \n",
       "39169       39169    Carolyn Jackson      F  11th  Thomas High School   \n",
       "\n",
       "       reading_score  math_score  School ID      type  size   budget  \n",
       "0                 66          79          0  District  2917  1910635  \n",
       "1                 94          61          0  District  2917  1910635  \n",
       "2                 90          60          0  District  2917  1910635  \n",
       "3                 67          58          0  District  2917  1910635  \n",
       "4                 97          84          0  District  2917  1910635  \n",
       "...              ...         ...        ...       ...   ...      ...  \n",
       "39165             99          90         14   Charter  1635  1043130  \n",
       "39166             95          70         14   Charter  1635  1043130  \n",
       "39167             73          84         14   Charter  1635  1043130  \n",
       "39168             99          90         14   Charter  1635  1043130  \n",
       "39169             95          75         14   Charter  1635  1043130  \n",
       "\n",
       "[39170 rows x 11 columns]"
      ]
     },
     "execution_count": 34,
     "metadata": {},
     "output_type": "execute_result"
    }
   ],
   "source": [
    "# Dependencies and Setup\n",
    "import pandas as pd\n",
    "\n",
    "# File to Load (Remember to Change These)\n",
    "school_data_to_load = \"Resources/schools_complete.csv\"\n",
    "student_data_to_load = \"Resources/students_complete.csv\"\n",
    "\n",
    "# Read School and Student Data File and store into Pandas DataFrames\n",
    "school_data_df = pd.read_csv(school_data_to_load)\n",
    "student_data_df = pd.read_csv(student_data_to_load)\n",
    "\n",
    "student_data_df.head(10)\n",
    "\n",
    "# Combine the data into a single dataset.  \n",
    "school_data_complete_df = pd.merge(student_data_df, school_data_df, how=\"left\", on=[\"school_name\", \"school_name\"])\n",
    "school_data_complete_df"
   ]
  },
  {
   "cell_type": "code",
   "execution_count": 35,
   "metadata": {},
   "outputs": [
    {
     "data": {
      "text/plain": [
       "15"
      ]
     },
     "execution_count": 35,
     "metadata": {},
     "output_type": "execute_result"
    }
   ],
   "source": [
    "# Calculate the total number of schools\n",
    "school_count = len(school_data_complete_df[\"School ID\"].unique())\n",
    "school_count"
   ]
  },
  {
   "cell_type": "code",
   "execution_count": 36,
   "metadata": {},
   "outputs": [
    {
     "data": {
      "text/plain": [
       "39170"
      ]
     },
     "execution_count": 36,
     "metadata": {},
     "output_type": "execute_result"
    }
   ],
   "source": [
    "# Calculate the total number of students\n",
    "student_count = len(school_data_complete_df[\"Student ID\"].unique())\n",
    "student_count"
   ]
  },
  {
   "cell_type": "code",
   "execution_count": 37,
   "metadata": {},
   "outputs": [
    {
     "data": {
      "text/plain": [
       "24649428"
      ]
     },
     "execution_count": 37,
     "metadata": {},
     "output_type": "execute_result"
    }
   ],
   "source": [
    "# Calculate the total budget\n",
    "total_budget = sum(school_data_complete_df[\"budget\"].unique())\n",
    "total_budget"
   ]
  },
  {
   "cell_type": "code",
   "execution_count": 38,
   "metadata": {},
   "outputs": [
    {
     "data": {
      "text/plain": [
       "78.98537145774827"
      ]
     },
     "execution_count": 38,
     "metadata": {},
     "output_type": "execute_result"
    }
   ],
   "source": [
    "# Calculate the average math score\n",
    "average_math_score = school_data_complete_df[\"math_score\"].mean()\n",
    "average_math_score"
   ]
  },
  {
   "cell_type": "code",
   "execution_count": 39,
   "metadata": {},
   "outputs": [
    {
     "data": {
      "text/plain": [
       "81.87784018381414"
      ]
     },
     "execution_count": 39,
     "metadata": {},
     "output_type": "execute_result"
    }
   ],
   "source": [
    "# Calculate the average reading score\n",
    "average_reading_score = school_data_complete_df[\"reading_score\"].mean()\n",
    "average_reading_score"
   ]
  },
  {
   "cell_type": "code",
   "execution_count": 40,
   "metadata": {},
   "outputs": [
    {
     "data": {
      "text/plain": [
       "0.749808526933878"
      ]
     },
     "execution_count": 40,
     "metadata": {},
     "output_type": "execute_result"
    }
   ],
   "source": [
    "# Calculate the percentage of students with a passing math score [70+]\n",
    "passing_math = school_data_complete_df.loc[school_data_complete_df[\"math_score\"] >= 70, [\"math_score\"]]\n",
    "percent_passing_math = len(passing_math) / student_count\n",
    "percent_passing_math"
   ]
  },
  {
   "cell_type": "code",
   "execution_count": 41,
   "metadata": {},
   "outputs": [
    {
     "data": {
      "text/plain": [
       "0.8580546336482001"
      ]
     },
     "execution_count": 41,
     "metadata": {},
     "output_type": "execute_result"
    }
   ],
   "source": [
    "# Calculate the percentage of students with a passing reading score [70+]\n",
    "passing_reading = school_data_complete_df.loc[school_data_complete_df[\"reading_score\"] >= 70]\n",
    "percent_passing_reading = len(passing_reading) / student_count\n",
    "percent_passing_reading"
   ]
  },
  {
   "cell_type": "code",
   "execution_count": 42,
   "metadata": {},
   "outputs": [
    {
     "data": {
      "text/plain": [
       "0.6517232575950983"
      ]
     },
     "execution_count": 42,
     "metadata": {},
     "output_type": "execute_result"
    }
   ],
   "source": [
    "# Calculate the percentage of students with both a passing reading score and passing math score\n",
    "passing_both = school_data_complete_df.loc[(school_data_complete_df[\"reading_score\"] >= 70) &\n",
    "                                           (school_data_complete_df[\"math_score\"] >=70)]\n",
    "percent_passing_both = len(passing_both) / student_count\n",
    "percent_passing_both"
   ]
  },
  {
   "cell_type": "code",
   "execution_count": 34,
   "metadata": {},
   "outputs": [
    {
     "data": {
      "text/plain": [
       "0        11\n",
       "1        11\n",
       "2        11\n",
       "3        11\n",
       "4        11\n",
       "         ..\n",
       "39165    11\n",
       "39166    11\n",
       "39167    11\n",
       "39168    11\n",
       "39169    11\n",
       "Length: 39170, dtype: int64"
      ]
     },
     "execution_count": 34,
     "metadata": {},
     "output_type": "execute_result"
    }
   ],
   "source": []
  },
  {
   "cell_type": "code",
   "execution_count": 21,
   "metadata": {},
   "outputs": [],
   "source": [
    "# Calculate the total budget"
   ]
  },
  {
   "cell_type": "code",
   "execution_count": 35,
   "metadata": {},
   "outputs": [
    {
     "data": {
      "text/plain": [
       "81.87784018381414"
      ]
     },
     "execution_count": 35,
     "metadata": {},
     "output_type": "execute_result"
    }
   ],
   "source": [
    "\n",
    "\n",
    "# Optional: give the displayed data cleaner formatting"
   ]
  },
  {
   "cell_type": "code",
   "execution_count": null,
   "metadata": {},
   "outputs": [],
   "source": [
    "# Total Schools\tTotal Students\tTotal Budget\tAverage Math Score\tAverage Reading Score\t% Passing Math\t% Passing Reading\t% Overall Passing\n",
    "# 0\t15\t39,170\t$24,649,428.00\t78.985371\t81.87784\t74.980853\t85.805463\t65.172326\n",
    "# School Summary\n",
    "# Create an overview table that summarizes key metrics about each school, including:\n",
    "\n",
    "# School Name\n",
    "# School Type\n",
    "# Total Students\n",
    "# Total School Budget\n",
    "# Per Student Budget\n",
    "# Average Math Score\n",
    "# Average Reading Score\n",
    "# % Passing Math\n",
    "# % Passing Reading\n",
    "# % Overall Passing (The percentage of students that passed math and reading.)\n",
    "# Create a dataframe to hold the above results\n",
    "\n",
    "# ​\n",
    "# School Type\tTotal Students\tTotal School Budget\tPer Student Budget\tAverage Math Score\tAverage Reading Score\t% Passing Math\t% Passing Reading\t% Overall Passing\n",
    "# Bailey High School\tDistrict\t4976\t$3,124,928.00\t$628.00\t77.048432\t81.033963\t66.680064\t81.933280\t54.642283\n",
    "# Cabrera High School\tCharter\t1858\t$1,081,356.00\t$582.00\t83.061895\t83.975780\t94.133477\t97.039828\t91.334769\n",
    "# Figueroa High School\tDistrict\t2949\t$1,884,411.00\t$639.00\t76.711767\t81.158020\t65.988471\t80.739234\t53.204476\n",
    "# Ford High School\tDistrict\t2739\t$1,763,916.00\t$644.00\t77.102592\t80.746258\t68.309602\t79.299014\t54.289887\n",
    "# Griffin High School\tCharter\t1468\t$917,500.00\t$625.00\t83.351499\t83.816757\t93.392371\t97.138965\t90.599455\n",
    "# Hernandez High School\tDistrict\t4635\t$3,022,020.00\t$652.00\t77.289752\t80.934412\t66.752967\t80.862999\t53.527508\n",
    "# Holden High School\tCharter\t427\t$248,087.00\t$581.00\t83.803279\t83.814988\t92.505855\t96.252927\t89.227166\n",
    "# Huang High School\tDistrict\t2917\t$1,910,635.00\t$655.00\t76.629414\t81.182722\t65.683922\t81.316421\t53.513884\n",
    "# Johnson High School\tDistrict\t4761\t$3,094,650.00\t$650.00\t77.072464\t80.966394\t66.057551\t81.222432\t53.539172\n",
    "# Pena High School\tCharter\t962\t$585,858.00\t$609.00\t83.839917\t84.044699\t94.594595\t95.945946\t90.540541\n",
    "# Rodriguez High School\tDistrict\t3999\t$2,547,363.00\t$637.00\t76.842711\t80.744686\t66.366592\t80.220055\t52.988247\n",
    "# Shelton High School\tCharter\t1761\t$1,056,600.00\t$600.00\t83.359455\t83.725724\t93.867121\t95.854628\t89.892107\n",
    "# Thomas High School\tCharter\t1635\t$1,043,130.00\t$638.00\t83.418349\t83.848930\t93.272171\t97.308869\t90.948012\n",
    "# Wilson High School\tCharter\t2283\t$1,319,574.00\t$578.00\t83.274201\t83.989488\t93.867718\t96.539641\t90.582567\n",
    "# Wright High School\tCharter\t1800\t$1,049,400.00\t$583.00\t83.682222\t83.955000\t93.333333\t96.611111\t90.333333\n",
    "# Top Performing Schools (By % Overall Passing)\n",
    "# Sort and display the top five performing schools by % overall passing.\n",
    "# ​\n",
    "# School Type\tTotal Students\tTotal School Budget\tPer Student Budget\tAverage Math Score\tAverage Reading Score\t% Passing Math\t% Passing Reading\t% Overall Passing\n",
    "# Cabrera High School\tCharter\t1858\t$1,081,356.00\t$582.00\t83.061895\t83.975780\t94.133477\t97.039828\t91.334769\n",
    "# Thomas High School\tCharter\t1635\t$1,043,130.00\t$638.00\t83.418349\t83.848930\t93.272171\t97.308869\t90.948012\n",
    "# Griffin High School\tCharter\t1468\t$917,500.00\t$625.00\t83.351499\t83.816757\t93.392371\t97.138965\t90.599455\n",
    "# Wilson High School\tCharter\t2283\t$1,319,574.00\t$578.00\t83.274201\t83.989488\t93.867718\t96.539641\t90.582567\n",
    "# Pena High School\tCharter\t962\t$585,858.00\t$609.00\t83.839917\t84.044699\t94.594595\t95.945946\t90.540541\n",
    "# Bottom Performing Schools (By % Overall Passing)\n",
    "# Sort and display the five worst-performing schools by % overall passing.\n",
    "# ​\n",
    "# School Type\tTotal Students\tTotal School Budget\tPer Student Budget\tAverage Math Score\tAverage Reading Score\t% Passing Math\t% Passing Reading\t% Overall Passing\n",
    "# Rodriguez High School\tDistrict\t3999\t$2,547,363.00\t$637.00\t76.842711\t80.744686\t66.366592\t80.220055\t52.988247\n",
    "# Figueroa High School\tDistrict\t2949\t$1,884,411.00\t$639.00\t76.711767\t81.158020\t65.988471\t80.739234\t53.204476\n",
    "# Huang High School\tDistrict\t2917\t$1,910,635.00\t$655.00\t76.629414\t81.182722\t65.683922\t81.316421\t53.513884\n",
    "# Hernandez High School\tDistrict\t4635\t$3,022,020.00\t$652.00\t77.289752\t80.934412\t66.752967\t80.862999\t53.527508\n",
    "# Johnson High School\tDistrict\t4761\t$3,094,650.00\t$650.00\t77.072464\t80.966394\t66.057551\t81.222432\t53.539172\n",
    "# Math Scores by Grade\n",
    "# Create a table that lists the average Reading Score for students of each grade level (9th, 10th, 11th, 12th) at each school.\n",
    "\n",
    "# Create a pandas series for each grade. Hint: use a conditional statement.\n",
    "\n",
    "# Group each series by school\n",
    "\n",
    "# Combine the series into a dataframe\n",
    "\n",
    "# Optional: give the displayed data cleaner formatting\n",
    "\n",
    "# ​\n",
    "# 9th\t10th\t11th\t12th\n",
    "# Bailey High School\t77.083676\t76.996772\t77.515588\t76.492218\n",
    "# Cabrera High School\t83.094697\t83.154506\t82.765560\t83.277487\n",
    "# Figueroa High School\t76.403037\t76.539974\t76.884344\t77.151369\n",
    "# Ford High School\t77.361345\t77.672316\t76.918058\t76.179963\n",
    "# Griffin High School\t82.044010\t84.229064\t83.842105\t83.356164\n",
    "# Hernandez High School\t77.438495\t77.337408\t77.136029\t77.186567\n",
    "# Holden High School\t83.787402\t83.429825\t85.000000\t82.855422\n",
    "# Huang High School\t77.027251\t75.908735\t76.446602\t77.225641\n",
    "# Johnson High School\t77.187857\t76.691117\t77.491653\t76.863248\n",
    "# Pena High School\t83.625455\t83.372000\t84.328125\t84.121547\n",
    "# Rodriguez High School\t76.859966\t76.612500\t76.395626\t77.690748\n",
    "# Shelton High School\t83.420755\t82.917411\t83.383495\t83.778976\n",
    "# Thomas High School\t83.590022\t83.087886\t83.498795\t83.497041\n",
    "# Wilson High School\t83.085578\t83.724422\t83.195326\t83.035794\n",
    "# Wright High School\t83.264706\t84.010288\t83.836782\t83.644986\n",
    "# Reading Score by Grade\n",
    "# Perform the same operations as above for reading scores\n",
    "# ​\n",
    "# 9th\t10th\t11th\t12th\n",
    "# Bailey High School\t81.303155\t80.907183\t80.945643\t80.912451\n",
    "# Cabrera High School\t83.676136\t84.253219\t83.788382\t84.287958\n",
    "# Figueroa High School\t81.198598\t81.408912\t80.640339\t81.384863\n",
    "# Ford High School\t80.632653\t81.262712\t80.403642\t80.662338\n",
    "# Griffin High School\t83.369193\t83.706897\t84.288089\t84.013699\n",
    "# Hernandez High School\t80.866860\t80.660147\t81.396140\t80.857143\n",
    "# Holden High School\t83.677165\t83.324561\t83.815534\t84.698795\n",
    "# Huang High School\t81.290284\t81.512386\t81.417476\t80.305983\n",
    "# Johnson High School\t81.260714\t80.773431\t80.616027\t81.227564\n",
    "# Pena High School\t83.807273\t83.612000\t84.335938\t84.591160\n",
    "# Rodriguez High School\t80.993127\t80.629808\t80.864811\t80.376426\n",
    "# Shelton High School\t84.122642\t83.441964\t84.373786\t82.781671\n",
    "# Thomas High School\t83.728850\t84.254157\t83.585542\t83.831361\n",
    "# Wilson High School\t83.939778\t84.021452\t83.764608\t84.317673\n",
    "# Wright High School\t83.833333\t83.812757\t84.156322\t84.073171\n",
    "# Scores by School Spending\n",
    "# Create a table that breaks down school performances based on average Spending Ranges (Per Student). Use 4 reasonable bins to group school spending. Include in the table each of the following:\n",
    "# Average Math Score\n",
    "# Average Reading Score\n",
    "# % Passing Math\n",
    "# % Passing Reading\n",
    "# Overall Passing Rate (Average of the above two)\n",
    "# ​\n",
    "# Average Math Score\tAverage Reading Score\t% Passing Math\t% Passing Reading\t% Overall Passing\n",
    "# Spending Ranges (Per Student)\t\t\t\t\t\n",
    "# <$584\t83.46\t83.93\t93.46\t96.61\t90.37\n",
    "# $585-629\t81.90\t83.16\t87.13\t92.72\t81.42\n",
    "# $630-644\t78.52\t81.62\t73.48\t84.39\t62.86\n",
    "# $645-675\t77.00\t81.03\t66.16\t81.13\t53.53\n",
    "# Scores by School Size\n",
    "# Perform the same operations as above, based on school size.\n",
    "# ​\n",
    "# Average Math Score\tAverage Reading Score\t% Passing Math\t% Passing Reading\t% Overall Passing\n",
    "# School Size\t\t\t\t\t\n",
    "# Small (<1000)\t83.821598\t83.929843\t93.550225\t96.099437\t89.883853\n",
    "# Medium (1000-2000)\t83.374684\t83.864438\t93.599695\t96.790680\t90.621535\n",
    "# Large (2000-5000)\t77.746417\t81.344493\t69.963361\t82.766634\t58.286003\n",
    "# Scores by School Type\n",
    "# Perform the same operations as above, based on school type\n",
    "# ​\n",
    "# Average Math Score\tAverage Reading Score\t% Passing Math\t% Passing Reading\t% Overall Passing\n",
    "# School Type\t\t\t\t\t\n",
    "# Charter\t83.473852\t83.896421\t93.620830\t96.586489\t90.432244\n",
    "# District\t76.956733\t80.966636\t66.548453\t80.799062\t53.672208\n",
    "# ​\n"
   ]
  }
 ],
 "metadata": {
  "kernelspec": {
   "display_name": "Python 3",
   "language": "python",
   "name": "python3"
  },
  "language_info": {
   "codemirror_mode": {
    "name": "ipython",
    "version": 3
   },
   "file_extension": ".py",
   "mimetype": "text/x-python",
   "name": "python",
   "nbconvert_exporter": "python",
   "pygments_lexer": "ipython3",
   "version": "3.8.5"
  }
 },
 "nbformat": 4,
 "nbformat_minor": 4
}
